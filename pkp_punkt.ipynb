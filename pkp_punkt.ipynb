{
 "cells": [
  {
   "cell_type": "code",
   "execution_count": 1,
   "metadata": {
    "collapsed": false
   },
   "outputs": [],
   "source": [
    "import pandas as pd\n",
    "import matplotlib.pyplot as plt\n",
    "%matplotlib inline\n",
    "\n",
    "# first need to install: pip install html5lib\n",
    "# TAGS\n",
    "# pandas, map, lambda, concat data frames, groupby"
   ]
  },
  {
   "cell_type": "code",
   "execution_count": 2,
   "metadata": {
    "collapsed": false,
    "scrolled": true
   },
   "outputs": [
    {
     "name": "stdout",
     "output_type": "stream",
     "text": [
      "Before removing duplicates: 83\n",
      "After removing duplicates: 80\n"
     ]
    },
    {
     "data": {
      "text/html": [
       "<div>\n",
       "<table border=\"1\" class=\"dataframe\">\n",
       "  <thead>\n",
       "    <tr style=\"text-align: right;\">\n",
       "      <th></th>\n",
       "      <th>Numer pociągu</th>\n",
       "      <th>Przewoźnik</th>\n",
       "      <th>Data</th>\n",
       "      <th>Relacja</th>\n",
       "      <th>Przyjazd planowo</th>\n",
       "      <th>Opoznienie</th>\n",
       "    </tr>\n",
       "  </thead>\n",
       "  <tbody>\n",
       "    <tr>\n",
       "      <th>3</th>\n",
       "      <td>45100/1 STOCZNIOWIEC</td>\n",
       "      <td>PKP Intercity</td>\n",
       "      <td>2017-05-15</td>\n",
       "      <td>Katowice - Gdynia Główna</td>\n",
       "      <td>17:27</td>\n",
       "      <td>12.0</td>\n",
       "    </tr>\n",
       "    <tr>\n",
       "      <th>17</th>\n",
       "      <td>71004/5 (45)</td>\n",
       "      <td>PKP Intercity</td>\n",
       "      <td>2017-05-15</td>\n",
       "      <td>Frankfurt/Oder - Warszawa Wschodnia</td>\n",
       "      <td>18:06</td>\n",
       "      <td>8.0</td>\n",
       "    </tr>\n",
       "    <tr>\n",
       "      <th>19</th>\n",
       "      <td>16533/2 (6297)</td>\n",
       "      <td>Przewozy Regionalne</td>\n",
       "      <td>2017-05-15</td>\n",
       "      <td>Łódź Kaliska - Wrocław Główny</td>\n",
       "      <td>18:51</td>\n",
       "      <td>7.0</td>\n",
       "    </tr>\n",
       "    <tr>\n",
       "      <th>4</th>\n",
       "      <td>3604/5 MEHOFFER</td>\n",
       "      <td>PKP Intercity</td>\n",
       "      <td>2017-05-15</td>\n",
       "      <td>Przemyśl - Jelenia Góra</td>\n",
       "      <td>17:39</td>\n",
       "      <td>6.0</td>\n",
       "    </tr>\n",
       "    <tr>\n",
       "      <th>20</th>\n",
       "      <td>41004/5 (130)VARSOVIA</td>\n",
       "      <td>PKP Intercity</td>\n",
       "      <td>2017-05-15</td>\n",
       "      <td>Petrovice U Karvine - Warszawa Wschodnia</td>\n",
       "      <td>18:23</td>\n",
       "      <td>4.0</td>\n",
       "    </tr>\n",
       "    <tr>\n",
       "      <th>12</th>\n",
       "      <td>61102/3 ORZESZKOWA</td>\n",
       "      <td>PKP Intercity</td>\n",
       "      <td>2017-05-15</td>\n",
       "      <td>Jelenia Góra - Białystok</td>\n",
       "      <td>19:01</td>\n",
       "      <td>4.0</td>\n",
       "    </tr>\n",
       "    <tr>\n",
       "      <th>11</th>\n",
       "      <td>3804/5 (55)MALCZEWSKI</td>\n",
       "      <td>PKP Intercity</td>\n",
       "      <td>2017-05-15</td>\n",
       "      <td>Przemyśl - Słupsk</td>\n",
       "      <td>17:56</td>\n",
       "      <td>3.0</td>\n",
       "    </tr>\n",
       "    <tr>\n",
       "      <th>0</th>\n",
       "      <td>82101/0 GAŁCZYŃSKI</td>\n",
       "      <td>PKP Intercity</td>\n",
       "      <td>2017-05-15</td>\n",
       "      <td>Szczecin Główny - Lublin</td>\n",
       "      <td>17:17</td>\n",
       "      <td>3.0</td>\n",
       "    </tr>\n",
       "    <tr>\n",
       "      <th>16</th>\n",
       "      <td>8409/8 (55)GWAREK</td>\n",
       "      <td>PKP Intercity</td>\n",
       "      <td>2017-05-15</td>\n",
       "      <td>Słupsk - Katowice</td>\n",
       "      <td>18:21</td>\n",
       "      <td>1.0</td>\n",
       "    </tr>\n",
       "    <tr>\n",
       "      <th>6</th>\n",
       "      <td>11321</td>\n",
       "      <td>Łódzka Kolej Aglomeracyjna</td>\n",
       "      <td>2017-05-15</td>\n",
       "      <td>Łowicz Główny - Łódź Widzew</td>\n",
       "      <td>18:08</td>\n",
       "      <td>0.0</td>\n",
       "    </tr>\n",
       "  </tbody>\n",
       "</table>\n",
       "</div>"
      ],
      "text/plain": [
       "            Numer pociągu                  Przewoźnik        Data  \\\n",
       "3    45100/1 STOCZNIOWIEC               PKP Intercity  2017-05-15   \n",
       "17           71004/5 (45)               PKP Intercity  2017-05-15   \n",
       "19         16533/2 (6297)         Przewozy Regionalne  2017-05-15   \n",
       "4         3604/5 MEHOFFER               PKP Intercity  2017-05-15   \n",
       "20  41004/5 (130)VARSOVIA               PKP Intercity  2017-05-15   \n",
       "12     61102/3 ORZESZKOWA               PKP Intercity  2017-05-15   \n",
       "11  3804/5 (55)MALCZEWSKI               PKP Intercity  2017-05-15   \n",
       "0      82101/0 GAŁCZYŃSKI               PKP Intercity  2017-05-15   \n",
       "16      8409/8 (55)GWAREK               PKP Intercity  2017-05-15   \n",
       "6                   11321  Łódzka Kolej Aglomeracyjna  2017-05-15   \n",
       "\n",
       "                                     Relacja Przyjazd planowo  Opoznienie  \n",
       "3                   Katowice - Gdynia Główna            17:27        12.0  \n",
       "17       Frankfurt/Oder - Warszawa Wschodnia            18:06         8.0  \n",
       "19             Łódź Kaliska - Wrocław Główny            18:51         7.0  \n",
       "4                    Przemyśl - Jelenia Góra            17:39         6.0  \n",
       "20  Petrovice U Karvine - Warszawa Wschodnia            18:23         4.0  \n",
       "12                  Jelenia Góra - Białystok            19:01         4.0  \n",
       "11                         Przemyśl - Słupsk            17:56         3.0  \n",
       "0                   Szczecin Główny - Lublin            17:17         3.0  \n",
       "16                         Słupsk - Katowice            18:21         1.0  \n",
       "6                Łowicz Główny - Łódź Widzew            18:08         0.0  "
      ]
     },
     "execution_count": 2,
     "metadata": {},
     "output_type": "execute_result"
    }
   ],
   "source": [
    "# read data\n",
    "df1 = pd.read_html('https://infopasazer.intercity.pl/?p=station&id=60103', header=0)[0]   \n",
    "# Wrocław Gł.\n",
    "df2 = pd.read_html('https://infopasazer.intercity.pl/?p=station&id=33605', header=0)[0]   \n",
    "# Warszawa Centralna\n",
    "df3 = pd.read_html('https://infopasazer.intercity.pl/?p=station&id=46409', header=0)[0]   \n",
    "# Łódź Widzew\n",
    "df4 = pd.read_html('https://infopasazer.intercity.pl/?p=station&id=30601', header=0)[0]   \n",
    "# Poznań  Główny\n",
    "df5 = pd.read_html('https://infopasazer.intercity.pl/?p=station&id=273', header=0)[0]     \n",
    "# Szczecin Główny\n",
    "df6 = pd.read_html('https://infopasazer.intercity.pl/?p=station&id=5900', header=0)[0]    \n",
    "# Gdynia Główna\n",
    "\n",
    "# concate data frames\n",
    "frames = [df1,df2,df3,df4]\n",
    "data = pd.concat(frames)\n",
    "\n",
    "# remove polish fonts for better processing later\n",
    "data=data.rename(columns = {'Opóźnienie':'Opoznienie'})\n",
    "\n",
    "# remove \"min\" from \"Opóźnienie\"\n",
    "data['Opoznienie'] = data['Opoznienie'].map(lambda x: float(x.rstrip(' min')))\n",
    "# sort data\n",
    "data = data.sort_values(by='Opoznienie', ascending=0)\n",
    "\n",
    "print('Before removing duplicates: '+str(len(data.index)))\n",
    "data = data.drop_duplicates(subset='Numer pociągu')\n",
    "print('After removing duplicates: '+str(len(data.index)))\n",
    "\n",
    "# print first 10 records\n",
    "data[:10]"
   ]
  },
  {
   "cell_type": "code",
   "execution_count": 3,
   "metadata": {
    "collapsed": false
   },
   "outputs": [
    {
     "data": {
      "text/plain": [
       "array([[<matplotlib.axes._subplots.AxesSubplot object at 0x1156c2128>]], dtype=object)"
      ]
     },
     "execution_count": 3,
     "metadata": {},
     "output_type": "execute_result"
    },
    {
     "data": {
      "image/png": "[encoded data removed]",
      "text/plain": [
       "<matplotlib.figure.Figure at 0x1156c2cc0>"
      ]
     },
     "metadata": {},
     "output_type": "display_data"
    }
   ],
   "source": [
    "#data.plot.hist('Opoznienie')\n",
    "pd.DataFrame.hist(data, 'Opoznienie')"
   ]
  },
  {
   "cell_type": "code",
   "execution_count": 4,
   "metadata": {
    "collapsed": false
   },
   "outputs": [
    {
     "data": {
      "text/plain": [
       "array([[<matplotlib.axes._subplots.AxesSubplot object at 0x1157b3198>]], dtype=object)"
      ]
     },
     "execution_count": 4,
     "metadata": {},
     "output_type": "execute_result"
    },
    {
     "data": {
      "image/png": "[encoded data removed]",
      "text/plain": [
       "<matplotlib.figure.Figure at 0x11576e240>"
      ]
     },
     "metadata": {},
     "output_type": "display_data"
    }
   ],
   "source": [
    "#data.loc[data['Przewoźnik'] == \"PKP Intercity\"]\n",
    "#print(str(len(data.loc[data['Przewoźnik'] == \"PKP Intercity\"].index)))\n",
    "pd.DataFrame.hist(data.loc[data['Przewoźnik'] == \"PKP Intercity\"], 'Opoznienie')"
   ]
  },
  {
   "cell_type": "code",
   "execution_count": 5,
   "metadata": {
    "collapsed": false
   },
   "outputs": [
    {
     "data": {
      "text/html": [
       "<div>\n",
       "<table border=\"1\" class=\"dataframe\">\n",
       "  <thead>\n",
       "    <tr>\n",
       "      <th></th>\n",
       "      <th colspan=\"2\" halign=\"left\">Opoznienie</th>\n",
       "    </tr>\n",
       "    <tr>\n",
       "      <th></th>\n",
       "      <th>mean</th>\n",
       "      <th>count</th>\n",
       "    </tr>\n",
       "    <tr>\n",
       "      <th>Przewoźnik</th>\n",
       "      <th></th>\n",
       "      <th></th>\n",
       "    </tr>\n",
       "  </thead>\n",
       "  <tbody>\n",
       "    <tr>\n",
       "      <th>Koleje Dolnośląskie</th>\n",
       "      <td>0.000000</td>\n",
       "      <td>9</td>\n",
       "    </tr>\n",
       "    <tr>\n",
       "      <th>Koleje Mazowieckie</th>\n",
       "      <td>0.000000</td>\n",
       "      <td>4</td>\n",
       "    </tr>\n",
       "    <tr>\n",
       "      <th>Koleje Wielkopolskie</th>\n",
       "      <td>0.000000</td>\n",
       "      <td>5</td>\n",
       "    </tr>\n",
       "    <tr>\n",
       "      <th>PKP Intercity</th>\n",
       "      <td>1.025000</td>\n",
       "      <td>40</td>\n",
       "    </tr>\n",
       "    <tr>\n",
       "      <th>Przewozy Regionalne</th>\n",
       "      <td>0.411765</td>\n",
       "      <td>17</td>\n",
       "    </tr>\n",
       "    <tr>\n",
       "      <th>SKM Warszawa</th>\n",
       "      <td>0.000000</td>\n",
       "      <td>2</td>\n",
       "    </tr>\n",
       "    <tr>\n",
       "      <th>Łódzka Kolej Aglomeracyjna</th>\n",
       "      <td>0.000000</td>\n",
       "      <td>3</td>\n",
       "    </tr>\n",
       "  </tbody>\n",
       "</table>\n",
       "</div>"
      ],
      "text/plain": [
       "                           Opoznienie      \n",
       "                                 mean count\n",
       "Przewoźnik                                 \n",
       "Koleje Dolnośląskie          0.000000     9\n",
       "Koleje Mazowieckie           0.000000     4\n",
       "Koleje Wielkopolskie         0.000000     5\n",
       "PKP Intercity                1.025000    40\n",
       "Przewozy Regionalne          0.411765    17\n",
       "SKM Warszawa                 0.000000     2\n",
       "Łódzka Kolej Aglomeracyjna   0.000000     3"
      ]
     },
     "execution_count": 5,
     "metadata": {},
     "output_type": "execute_result"
    }
   ],
   "source": [
    "# operator -- liczba pociagow -- srednie opoznienie\n",
    "data.groupby('Przewoźnik').agg(['mean', 'count'])"
   ]
  },
  {
   "cell_type": "markdown",
   "metadata": {
    "collapsed": true
   },
   "source": [
    "# Pomysł\n",
    "\n",
    "Najpierw można tworzyć histogram w czasie rzeczywistym pokazujący aktualne opóźnienia pociągów. Potem moża trenować sieć neuronową, która przewidywałaby opóźnienia danych pociągów na danej stacji.\n",
    "\n",
    "Prawdopodobnie opóźnienia pociągów są nieliniowe, tzn., powiedzmy, 80% opóźnień powstaje dla 20% pociągów. Albo 80% opóźnień powstaje na 20% odcinków (Pareto).\n",
    "\n",
    "# Dane\n",
    "\n",
    "Warto byłoby mieć też ostateczne opóźnienie danego pociągu, tj. na stacji docelowej. Dane można zbierać cyklicznie. Ciekawe, czy PKP udostępniłoby dane historyczne.\n",
    "\n",
    "# Komentarze\n",
    "\n",
    "- Likwidacja duplikatów może generować błędy ponieważ niektóre pociągi z jakiegoś powodu wydają się zmieniać nazwę/numer już w trasie.\n",
    "- Wykres: opóźnienie w f. dł. trasy?\n",
    "- Średnie opóźnienie dla danego dworca -- lista najbardziej opóźnionych dworców.\n",
    "- Id dworców wpisywałem ręcznie. Dałoby się zrobić pętlę i przeszukać wszystkie id (ok. 500 dworców w Polsce). Numeracja dworców zastosowana przez PKP jest dla mnie niejasna (zresztą jak numeracja miejsc w pociągach).\n",
    "- Wizualizacja: węzły sieci -- stacje kolejowe, kolorowa skala oznaczająca (średnie) opóźnienie na danej stacji."
   ]
  },
  {
   "cell_type": "code",
   "execution_count": null,
   "metadata": {
    "collapsed": true
   },
   "outputs": [],
   "source": []
  }
 ],
 "metadata": {
  "anaconda-cloud": {},
  "kernelspec": {
   "display_name": "Python [conda root]",
   "language": "python",
   "name": "conda-root-py"
  },
  "language_info": {
   "codemirror_mode": {
    "name": "ipython",
    "version": 3
   },
   "file_extension": ".py",
   "mimetype": "text/x-python",
   "name": "python",
   "nbconvert_exporter": "python",
   "pygments_lexer": "ipython3",
   "version": "3.5.2"
  }
 },
 "nbformat": 4,
 "nbformat_minor": 1
}
