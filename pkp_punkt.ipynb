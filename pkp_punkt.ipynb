{
 "cells": [
  {
   "cell_type": "code",
   "execution_count": 2,
   "metadata": {
    "collapsed": false
   },
   "outputs": [],
   "source": [
    "import pandas as pd\n",
    "import matplotlib.pyplot as plt\n",
    "%matplotlib inline\n",
    "\n",
    "# first need to install: pip install html5lib\n",
    "# TAGS\n",
    "# pandas, map, lambda, concat data frames, groupby"
   ]
  },
  {
   "cell_type": "code",
   "execution_count": 4,
   "metadata": {
    "collapsed": false,
    "scrolled": true
   },
   "outputs": [
    {
     "name": "stdout",
     "output_type": "stream",
     "text": [
      "Before removing duplicates: 79\n",
      "After removing duplicates: 79\n"
     ]
    },
    {
     "data": {
      "text/html": [
       "<div>\n",
       "<table border=\"1\" class=\"dataframe\">\n",
       "  <thead>\n",
       "    <tr style=\"text-align: right;\">\n",
       "      <th></th>\n",
       "      <th>Numer pociągu</th>\n",
       "      <th>Przewoźnik</th>\n",
       "      <th>Data</th>\n",
       "      <th>Relacja</th>\n",
       "      <th>Przyjazd planowo</th>\n",
       "      <th>Opoznienie</th>\n",
       "    </tr>\n",
       "  </thead>\n",
       "  <tbody>\n",
       "    <tr>\n",
       "      <th>0</th>\n",
       "      <td>84107/6 DOBRAWA</td>\n",
       "      <td>PKP Intercity</td>\n",
       "      <td>2017-05-15</td>\n",
       "      <td>Szczecin Główny - Katowice</td>\n",
       "      <td>08:42</td>\n",
       "      <td>32.0</td>\n",
       "    </tr>\n",
       "    <tr>\n",
       "      <th>20</th>\n",
       "      <td>84107/6 (5791)DOBRAWA</td>\n",
       "      <td>PKP Intercity</td>\n",
       "      <td>2017-05-15</td>\n",
       "      <td>Szczecin Główny - Katowice</td>\n",
       "      <td>10:49</td>\n",
       "      <td>20.0</td>\n",
       "    </tr>\n",
       "    <tr>\n",
       "      <th>11</th>\n",
       "      <td>1600/1</td>\n",
       "      <td>PKP Intercity</td>\n",
       "      <td>2017-05-15</td>\n",
       "      <td>Warszawa Wschodnia - Wrocław Główny</td>\n",
       "      <td>09:47</td>\n",
       "      <td>7.0</td>\n",
       "    </tr>\n",
       "    <tr>\n",
       "      <th>3</th>\n",
       "      <td>57102/3 STOCZNIOWIEC</td>\n",
       "      <td>PKP Intercity</td>\n",
       "      <td>2017-05-15</td>\n",
       "      <td>Bydgoszcz Główna - Zielona Góra</td>\n",
       "      <td>09:05</td>\n",
       "      <td>6.0</td>\n",
       "    </tr>\n",
       "    <tr>\n",
       "      <th>4</th>\n",
       "      <td>16102/3 ORZESZKOWA</td>\n",
       "      <td>PKP Intercity</td>\n",
       "      <td>2017-05-15</td>\n",
       "      <td>Białystok - Jelenia Góra</td>\n",
       "      <td>09:02</td>\n",
       "      <td>3.0</td>\n",
       "    </tr>\n",
       "    <tr>\n",
       "      <th>18</th>\n",
       "      <td>6122/3 (67)ŁUŻYCE</td>\n",
       "      <td>PKP Intercity</td>\n",
       "      <td>2017-05-15</td>\n",
       "      <td>Wrocław Główny - Warszawa Wschodnia</td>\n",
       "      <td>09:53</td>\n",
       "      <td>1.0</td>\n",
       "    </tr>\n",
       "    <tr>\n",
       "      <th>15</th>\n",
       "      <td>5606/7 (41)PIAST</td>\n",
       "      <td>PKP Intercity</td>\n",
       "      <td>2017-05-15</td>\n",
       "      <td>Gdynia Główna - Wrocław Główny</td>\n",
       "      <td>09:46</td>\n",
       "      <td>0.0</td>\n",
       "    </tr>\n",
       "    <tr>\n",
       "      <th>8</th>\n",
       "      <td>11311</td>\n",
       "      <td>Łódzka Kolej Aglomeracyjna</td>\n",
       "      <td>2017-05-15</td>\n",
       "      <td>Łowicz Główny - Łódź Widzew</td>\n",
       "      <td>09:51</td>\n",
       "      <td>0.0</td>\n",
       "    </tr>\n",
       "    <tr>\n",
       "      <th>14</th>\n",
       "      <td>53106/7 SUKIENNICE</td>\n",
       "      <td>PKP Intercity</td>\n",
       "      <td>2017-05-15</td>\n",
       "      <td>Gdynia Główna - Kraków Główny Osobowy</td>\n",
       "      <td>14:23</td>\n",
       "      <td>0.0</td>\n",
       "    </tr>\n",
       "    <tr>\n",
       "      <th>13</th>\n",
       "      <td>41310</td>\n",
       "      <td>Przewozy Regionalne</td>\n",
       "      <td>2017-05-15</td>\n",
       "      <td>Częstochowa - Łódź Fabryczna</td>\n",
       "      <td>11:01</td>\n",
       "      <td>0.0</td>\n",
       "    </tr>\n",
       "  </tbody>\n",
       "</table>\n",
       "</div>"
      ],
      "text/plain": [
       "            Numer pociągu                  Przewoźnik        Data  \\\n",
       "0         84107/6 DOBRAWA               PKP Intercity  2017-05-15   \n",
       "20  84107/6 (5791)DOBRAWA               PKP Intercity  2017-05-15   \n",
       "11                 1600/1               PKP Intercity  2017-05-15   \n",
       "3    57102/3 STOCZNIOWIEC               PKP Intercity  2017-05-15   \n",
       "4      16102/3 ORZESZKOWA               PKP Intercity  2017-05-15   \n",
       "18      6122/3 (67)ŁUŻYCE               PKP Intercity  2017-05-15   \n",
       "15       5606/7 (41)PIAST               PKP Intercity  2017-05-15   \n",
       "8                   11311  Łódzka Kolej Aglomeracyjna  2017-05-15   \n",
       "14     53106/7 SUKIENNICE               PKP Intercity  2017-05-15   \n",
       "13                  41310         Przewozy Regionalne  2017-05-15   \n",
       "\n",
       "                                  Relacja Przyjazd planowo  Opoznienie  \n",
       "0              Szczecin Główny - Katowice            08:42        32.0  \n",
       "20             Szczecin Główny - Katowice            10:49        20.0  \n",
       "11    Warszawa Wschodnia - Wrocław Główny            09:47         7.0  \n",
       "3         Bydgoszcz Główna - Zielona Góra            09:05         6.0  \n",
       "4                Białystok - Jelenia Góra            09:02         3.0  \n",
       "18    Wrocław Główny - Warszawa Wschodnia            09:53         1.0  \n",
       "15         Gdynia Główna - Wrocław Główny            09:46         0.0  \n",
       "8             Łowicz Główny - Łódź Widzew            09:51         0.0  \n",
       "14  Gdynia Główna - Kraków Główny Osobowy            14:23         0.0  \n",
       "13           Częstochowa - Łódź Fabryczna            11:01         0.0  "
      ]
     },
     "execution_count": 4,
     "metadata": {},
     "output_type": "execute_result"
    }
   ],
   "source": [
    "# read data\n",
    "df1 = pd.read_html('https://infopasazer.intercity.pl/?p=station&id=60103', header=0)[0]   # Wrocław Gł.\n",
    "df2 = pd.read_html('https://infopasazer.intercity.pl/?p=station&id=33605', header=0)[0]   # Warszawa Centralna\n",
    "df3 = pd.read_html('https://infopasazer.intercity.pl/?p=station&id=46409', header=0)[0]   # Łódź Widzew\n",
    "df4 = pd.read_html('https://infopasazer.intercity.pl/?p=station&id=30601', header=0)[0]   # Poznań  Główny\n",
    "df5 = pd.read_html('https://infopasazer.intercity.pl/?p=station&id=273', header=0)[0]     # Szczecin Główny\n",
    "df6 = pd.read_html('https://infopasazer.intercity.pl/?p=station&id=5900', header=0)[0]    # Gdynia Główna\n",
    "\n",
    "# concate data frames\n",
    "frames = [df1,df2,df3,df4]\n",
    "data = pd.concat(frames)\n",
    "\n",
    "# remove polish fonts for better processing later\n",
    "data=data.rename(columns = {'Opóźnienie':'Opoznienie'})\n",
    "\n",
    "# remove \"min\" from \"Opóźnienie\"\n",
    "data['Opoznienie'] = data['Opoznienie'].map(lambda x: float(x.rstrip(' min')))\n",
    "# sort data\n",
    "data = data.sort_values(by='Opoznienie', ascending=0)\n",
    "\n",
    "print('Before removing duplicates: '+str(len(data.index)))\n",
    "data = data.drop_duplicates(subset='Numer pociągu')\n",
    "print('After removing duplicates: '+str(len(data.index)))\n",
    "\n",
    "# print first 10 records\n",
    "data[:10]"
   ]
  },
  {
   "cell_type": "code",
   "execution_count": 8,
   "metadata": {
    "collapsed": false
   },
   "outputs": [
    {
     "data": {
      "text/plain": [
       "array([[<matplotlib.axes._subplots.AxesSubplot object at 0x11883a940>]], dtype=object)"
      ]
     },
     "execution_count": 8,
     "metadata": {},
     "output_type": "execute_result"
    },
    {
     "data": {
      "image/png": "[encoded data removed]",
      "text/plain": [
       "<matplotlib.figure.Figure at 0x1188a3978>"
      ]
     },
     "metadata": {},
     "output_type": "display_data"
    }
   ],
   "source": [
    "#data.plot.hist('Opoznienie')\n",
    "pd.DataFrame.hist(data, 'Opoznienie')"
   ]
  },
  {
   "cell_type": "code",
   "execution_count": 14,
   "metadata": {
    "collapsed": false
   },
   "outputs": [
    {
     "data": {
      "text/plain": [
       "array([[<matplotlib.axes._subplots.AxesSubplot object at 0x1188c3f28>]], dtype=object)"
      ]
     },
     "execution_count": 14,
     "metadata": {},
     "output_type": "execute_result"
    },
    {
     "data": {
      "image/png": "[encoded data removed]",
      "text/plain": [
       "<matplotlib.figure.Figure at 0x1188bfa90>"
      ]
     },
     "metadata": {},
     "output_type": "display_data"
    }
   ],
   "source": [
    "#data.loc[data['Przewoźnik'] == \"PKP Intercity\"]\n",
    "#print(str(len(data.loc[data['Przewoźnik'] == \"PKP Intercity\"].index)))\n",
    "pd.DataFrame.hist(data.loc[data['Przewoźnik'] == \"PKP Intercity\"], 'Opoznienie')"
   ]
  },
  {
   "cell_type": "code",
   "execution_count": 9,
   "metadata": {
    "collapsed": false
   },
   "outputs": [
    {
     "data": {
      "text/html": [
       "<div>\n",
       "<table border=\"1\" class=\"dataframe\">\n",
       "  <thead>\n",
       "    <tr>\n",
       "      <th></th>\n",
       "      <th colspan=\"2\" halign=\"left\">Opoznienie</th>\n",
       "    </tr>\n",
       "    <tr>\n",
       "      <th></th>\n",
       "      <th>mean</th>\n",
       "      <th>count</th>\n",
       "    </tr>\n",
       "    <tr>\n",
       "      <th>Przewoźnik</th>\n",
       "      <th></th>\n",
       "      <th></th>\n",
       "    </tr>\n",
       "  </thead>\n",
       "  <tbody>\n",
       "    <tr>\n",
       "      <th>Koleje Dolnośląskie</th>\n",
       "      <td>0.000000</td>\n",
       "      <td>4</td>\n",
       "    </tr>\n",
       "    <tr>\n",
       "      <th>Koleje Mazowieckie</th>\n",
       "      <td>0.000000</td>\n",
       "      <td>2</td>\n",
       "    </tr>\n",
       "    <tr>\n",
       "      <th>Koleje Wielkopolskie</th>\n",
       "      <td>0.000000</td>\n",
       "      <td>8</td>\n",
       "    </tr>\n",
       "    <tr>\n",
       "      <th>PKP Intercity</th>\n",
       "      <td>1.604651</td>\n",
       "      <td>43</td>\n",
       "    </tr>\n",
       "    <tr>\n",
       "      <th>Przewozy Regionalne</th>\n",
       "      <td>0.000000</td>\n",
       "      <td>19</td>\n",
       "    </tr>\n",
       "    <tr>\n",
       "      <th>SKM Warszawa</th>\n",
       "      <td>0.000000</td>\n",
       "      <td>1</td>\n",
       "    </tr>\n",
       "    <tr>\n",
       "      <th>Łódzka Kolej Aglomeracyjna</th>\n",
       "      <td>0.000000</td>\n",
       "      <td>2</td>\n",
       "    </tr>\n",
       "  </tbody>\n",
       "</table>\n",
       "</div>"
      ],
      "text/plain": [
       "                           Opoznienie      \n",
       "                                 mean count\n",
       "Przewoźnik                                 \n",
       "Koleje Dolnośląskie          0.000000     4\n",
       "Koleje Mazowieckie           0.000000     2\n",
       "Koleje Wielkopolskie         0.000000     8\n",
       "PKP Intercity                1.604651    43\n",
       "Przewozy Regionalne          0.000000    19\n",
       "SKM Warszawa                 0.000000     1\n",
       "Łódzka Kolej Aglomeracyjna   0.000000     2"
      ]
     },
     "execution_count": 9,
     "metadata": {},
     "output_type": "execute_result"
    }
   ],
   "source": [
    "# operator -- liczba pociagow -- srednie opoznienie\n",
    "data.groupby('Przewoźnik').agg(['mean', 'count'])"
   ]
  },
  {
   "cell_type": "markdown",
   "metadata": {
    "collapsed": true
   },
   "source": [
    "# Pomysł\n",
    "\n",
    "Najpierw można tworzyć histogram w czasie rzeczywistym pokazujący aktualne opóźnienia pociągów. Potem moża trenować sieć neuronową, która przewidywałaby opóźnienia danych pociągów na danej stacji.\n",
    "\n",
    "Prawdopodobnie opóźnienia pociągów są nieliniowe, tzn., powiedzmy, 80% opóźnień powstaje dla 20% pociągów. Albo 80% opóźnień powstaje na 20% odcinków (Pareto).\n",
    "\n",
    "# Dane\n",
    "\n",
    "Warto byłoby mieć też ostateczne opóźnienie danego pociągu, tj. na stacji docelowej. Dane można zbierać cyklicznie. Ciekawe, czy PKP udostępniłoby dane historyczne.\n",
    "\n",
    "# Komentarze\n",
    "\n",
    "- Likwidacja duplikatów może generować błędy ponieważ niektóre pociągi z jakiegoś powodu wydają się zmieniać nazwę/numer już w trasie.\n",
    "- Wykres: opóźnienie w f. dł. trasy?\n",
    "- Średnie opóźnienie dla danego dworca -- lista najbardziej opóźnionych dworców.\n",
    "- Id dworców wpisywałem ręcznie. Dałoby się zrobić pętlę i przeszukać wszystkie id (ok. 500 dworców w Polsce). Numeracja dworców zastosowana przez PKP jest dla mnie niejasna (zresztą jak numeracja miejsc w pociągach).\n",
    "- Wizualizacja: węzły sieci -- stacje kolejowe, kolorowa skala oznaczająca (średnie) opóźnienie na danej stacji."
   ]
  },
  {
   "cell_type": "code",
   "execution_count": null,
   "metadata": {
    "collapsed": true
   },
   "outputs": [],
   "source": []
  }
 ],
 "metadata": {
  "anaconda-cloud": {},
  "kernelspec": {
   "display_name": "Python [conda root]",
   "language": "python",
   "name": "conda-root-py"
  },
  "language_info": {
   "codemirror_mode": {
    "name": "ipython",
    "version": 3
   },
   "file_extension": ".py",
   "mimetype": "text/x-python",
   "name": "python",
   "nbconvert_exporter": "python",
   "pygments_lexer": "ipython3",
   "version": "3.5.2"
  }
 },
 "nbformat": 4,
 "nbformat_minor": 1
}
